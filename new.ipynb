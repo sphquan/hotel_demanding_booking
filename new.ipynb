{
 "cells": [
  {
   "cell_type": "markdown",
   "id": "fd2358b1",
   "metadata": {},
   "source": [
    "#Load Data"
   ]
  },
  {
   "cell_type": "code",
   "execution_count": 301,
   "id": "eda52e95",
   "metadata": {},
   "outputs": [],
   "source": [
    "import pandas as pd\n",
    "import numpy as np\n",
    "import seaborn as sns\n",
    "import matplotlib.pyplot as plt\n",
    "from sklearn.model_selection import train_test_split\n",
    "from sklearn.ensemble import RandomForestRegressor\n",
    "from sklearn.preprocessing import LabelEncoder\n",
    "from sklearn.metrics import mean_absolute_error, r2_score, mean_squared_error\n",
    "from sklearn.model_selection import GridSearchCV, TimeSeriesSplit\n"
   ]
  },
  {
   "cell_type": "code",
   "execution_count": 302,
   "id": "f75ae35e",
   "metadata": {},
   "outputs": [
    {
     "data": {
      "text/html": [
       "<div>\n",
       "<style scoped>\n",
       "    .dataframe tbody tr th:only-of-type {\n",
       "        vertical-align: middle;\n",
       "    }\n",
       "\n",
       "    .dataframe tbody tr th {\n",
       "        vertical-align: top;\n",
       "    }\n",
       "\n",
       "    .dataframe thead th {\n",
       "        text-align: right;\n",
       "    }\n",
       "</style>\n",
       "<table border=\"1\" class=\"dataframe\">\n",
       "  <thead>\n",
       "    <tr style=\"text-align: right;\">\n",
       "      <th></th>\n",
       "      <th>hotel</th>\n",
       "      <th>is_canceled</th>\n",
       "      <th>lead_time</th>\n",
       "      <th>arrival_date_year</th>\n",
       "      <th>arrival_date_month</th>\n",
       "      <th>arrival_date_week_number</th>\n",
       "      <th>arrival_date_day_of_month</th>\n",
       "      <th>stays_in_weekend_nights</th>\n",
       "      <th>stays_in_week_nights</th>\n",
       "      <th>adults</th>\n",
       "      <th>...</th>\n",
       "      <th>deposit_type</th>\n",
       "      <th>agent</th>\n",
       "      <th>company</th>\n",
       "      <th>days_in_waiting_list</th>\n",
       "      <th>customer_type</th>\n",
       "      <th>adr</th>\n",
       "      <th>required_car_parking_spaces</th>\n",
       "      <th>total_of_special_requests</th>\n",
       "      <th>reservation_status</th>\n",
       "      <th>reservation_status_date</th>\n",
       "    </tr>\n",
       "  </thead>\n",
       "  <tbody>\n",
       "    <tr>\n",
       "      <th>0</th>\n",
       "      <td>Resort Hotel</td>\n",
       "      <td>0</td>\n",
       "      <td>342</td>\n",
       "      <td>2015</td>\n",
       "      <td>July</td>\n",
       "      <td>27</td>\n",
       "      <td>1</td>\n",
       "      <td>0</td>\n",
       "      <td>0</td>\n",
       "      <td>2</td>\n",
       "      <td>...</td>\n",
       "      <td>No Deposit</td>\n",
       "      <td>NaN</td>\n",
       "      <td>NaN</td>\n",
       "      <td>0</td>\n",
       "      <td>Transient</td>\n",
       "      <td>0.0</td>\n",
       "      <td>0</td>\n",
       "      <td>0</td>\n",
       "      <td>Check-Out</td>\n",
       "      <td>2015-07-01</td>\n",
       "    </tr>\n",
       "    <tr>\n",
       "      <th>1</th>\n",
       "      <td>Resort Hotel</td>\n",
       "      <td>0</td>\n",
       "      <td>737</td>\n",
       "      <td>2015</td>\n",
       "      <td>July</td>\n",
       "      <td>27</td>\n",
       "      <td>1</td>\n",
       "      <td>0</td>\n",
       "      <td>0</td>\n",
       "      <td>2</td>\n",
       "      <td>...</td>\n",
       "      <td>No Deposit</td>\n",
       "      <td>NaN</td>\n",
       "      <td>NaN</td>\n",
       "      <td>0</td>\n",
       "      <td>Transient</td>\n",
       "      <td>0.0</td>\n",
       "      <td>0</td>\n",
       "      <td>0</td>\n",
       "      <td>Check-Out</td>\n",
       "      <td>2015-07-01</td>\n",
       "    </tr>\n",
       "    <tr>\n",
       "      <th>2</th>\n",
       "      <td>Resort Hotel</td>\n",
       "      <td>0</td>\n",
       "      <td>7</td>\n",
       "      <td>2015</td>\n",
       "      <td>July</td>\n",
       "      <td>27</td>\n",
       "      <td>1</td>\n",
       "      <td>0</td>\n",
       "      <td>1</td>\n",
       "      <td>1</td>\n",
       "      <td>...</td>\n",
       "      <td>No Deposit</td>\n",
       "      <td>NaN</td>\n",
       "      <td>NaN</td>\n",
       "      <td>0</td>\n",
       "      <td>Transient</td>\n",
       "      <td>75.0</td>\n",
       "      <td>0</td>\n",
       "      <td>0</td>\n",
       "      <td>Check-Out</td>\n",
       "      <td>2015-07-02</td>\n",
       "    </tr>\n",
       "    <tr>\n",
       "      <th>3</th>\n",
       "      <td>Resort Hotel</td>\n",
       "      <td>0</td>\n",
       "      <td>13</td>\n",
       "      <td>2015</td>\n",
       "      <td>July</td>\n",
       "      <td>27</td>\n",
       "      <td>1</td>\n",
       "      <td>0</td>\n",
       "      <td>1</td>\n",
       "      <td>1</td>\n",
       "      <td>...</td>\n",
       "      <td>No Deposit</td>\n",
       "      <td>304.0</td>\n",
       "      <td>NaN</td>\n",
       "      <td>0</td>\n",
       "      <td>Transient</td>\n",
       "      <td>75.0</td>\n",
       "      <td>0</td>\n",
       "      <td>0</td>\n",
       "      <td>Check-Out</td>\n",
       "      <td>2015-07-02</td>\n",
       "    </tr>\n",
       "    <tr>\n",
       "      <th>4</th>\n",
       "      <td>Resort Hotel</td>\n",
       "      <td>0</td>\n",
       "      <td>14</td>\n",
       "      <td>2015</td>\n",
       "      <td>July</td>\n",
       "      <td>27</td>\n",
       "      <td>1</td>\n",
       "      <td>0</td>\n",
       "      <td>2</td>\n",
       "      <td>2</td>\n",
       "      <td>...</td>\n",
       "      <td>No Deposit</td>\n",
       "      <td>240.0</td>\n",
       "      <td>NaN</td>\n",
       "      <td>0</td>\n",
       "      <td>Transient</td>\n",
       "      <td>98.0</td>\n",
       "      <td>0</td>\n",
       "      <td>1</td>\n",
       "      <td>Check-Out</td>\n",
       "      <td>2015-07-03</td>\n",
       "    </tr>\n",
       "  </tbody>\n",
       "</table>\n",
       "<p>5 rows × 32 columns</p>\n",
       "</div>"
      ],
      "text/plain": [
       "          hotel  is_canceled  lead_time  arrival_date_year arrival_date_month  \\\n",
       "0  Resort Hotel            0        342               2015               July   \n",
       "1  Resort Hotel            0        737               2015               July   \n",
       "2  Resort Hotel            0          7               2015               July   \n",
       "3  Resort Hotel            0         13               2015               July   \n",
       "4  Resort Hotel            0         14               2015               July   \n",
       "\n",
       "   arrival_date_week_number  arrival_date_day_of_month  \\\n",
       "0                        27                          1   \n",
       "1                        27                          1   \n",
       "2                        27                          1   \n",
       "3                        27                          1   \n",
       "4                        27                          1   \n",
       "\n",
       "   stays_in_weekend_nights  stays_in_week_nights  adults  ...  deposit_type  \\\n",
       "0                        0                     0       2  ...    No Deposit   \n",
       "1                        0                     0       2  ...    No Deposit   \n",
       "2                        0                     1       1  ...    No Deposit   \n",
       "3                        0                     1       1  ...    No Deposit   \n",
       "4                        0                     2       2  ...    No Deposit   \n",
       "\n",
       "   agent company days_in_waiting_list customer_type   adr  \\\n",
       "0    NaN     NaN                    0     Transient   0.0   \n",
       "1    NaN     NaN                    0     Transient   0.0   \n",
       "2    NaN     NaN                    0     Transient  75.0   \n",
       "3  304.0     NaN                    0     Transient  75.0   \n",
       "4  240.0     NaN                    0     Transient  98.0   \n",
       "\n",
       "   required_car_parking_spaces  total_of_special_requests  reservation_status  \\\n",
       "0                            0                          0           Check-Out   \n",
       "1                            0                          0           Check-Out   \n",
       "2                            0                          0           Check-Out   \n",
       "3                            0                          0           Check-Out   \n",
       "4                            0                          1           Check-Out   \n",
       "\n",
       "  reservation_status_date  \n",
       "0              2015-07-01  \n",
       "1              2015-07-01  \n",
       "2              2015-07-02  \n",
       "3              2015-07-02  \n",
       "4              2015-07-03  \n",
       "\n",
       "[5 rows x 32 columns]"
      ]
     },
     "execution_count": 302,
     "metadata": {},
     "output_type": "execute_result"
    }
   ],
   "source": [
    "df = pd.read_csv('hotel_bookings.csv')\n",
    "df.head()"
   ]
  },
  {
   "cell_type": "code",
   "execution_count": 303,
   "id": "d7f3da7e",
   "metadata": {},
   "outputs": [
    {
     "name": "stdout",
     "output_type": "stream",
     "text": [
      "<class 'pandas.core.frame.DataFrame'>\n",
      "RangeIndex: 119390 entries, 0 to 119389\n",
      "Data columns (total 32 columns):\n",
      " #   Column                          Non-Null Count   Dtype  \n",
      "---  ------                          --------------   -----  \n",
      " 0   hotel                           119390 non-null  object \n",
      " 1   is_canceled                     119390 non-null  int64  \n",
      " 2   lead_time                       119390 non-null  int64  \n",
      " 3   arrival_date_year               119390 non-null  int64  \n",
      " 4   arrival_date_month              119390 non-null  object \n",
      " 5   arrival_date_week_number        119390 non-null  int64  \n",
      " 6   arrival_date_day_of_month       119390 non-null  int64  \n",
      " 7   stays_in_weekend_nights         119390 non-null  int64  \n",
      " 8   stays_in_week_nights            119390 non-null  int64  \n",
      " 9   adults                          119390 non-null  int64  \n",
      " 10  children                        119386 non-null  float64\n",
      " 11  babies                          119390 non-null  int64  \n",
      " 12  meal                            119390 non-null  object \n",
      " 13  country                         118902 non-null  object \n",
      " 14  market_segment                  119390 non-null  object \n",
      " 15  distribution_channel            119390 non-null  object \n",
      " 16  is_repeated_guest               119390 non-null  int64  \n",
      " 17  previous_cancellations          119390 non-null  int64  \n",
      " 18  previous_bookings_not_canceled  119390 non-null  int64  \n",
      " 19  reserved_room_type              119390 non-null  object \n",
      " 20  assigned_room_type              119390 non-null  object \n",
      " 21  booking_changes                 119390 non-null  int64  \n",
      " 22  deposit_type                    119390 non-null  object \n",
      " 23  agent                           103050 non-null  float64\n",
      " 24  company                         6797 non-null    float64\n",
      " 25  days_in_waiting_list            119390 non-null  int64  \n",
      " 26  customer_type                   119390 non-null  object \n",
      " 27  adr                             119390 non-null  float64\n",
      " 28  required_car_parking_spaces     119390 non-null  int64  \n",
      " 29  total_of_special_requests       119390 non-null  int64  \n",
      " 30  reservation_status              119390 non-null  object \n",
      " 31  reservation_status_date         119390 non-null  object \n",
      "dtypes: float64(4), int64(16), object(12)\n",
      "memory usage: 29.1+ MB\n"
     ]
    }
   ],
   "source": [
    "df.info()"
   ]
  },
  {
   "cell_type": "code",
   "execution_count": 304,
   "id": "d9e1b011",
   "metadata": {},
   "outputs": [
    {
     "data": {
      "text/html": [
       "<div>\n",
       "<style scoped>\n",
       "    .dataframe tbody tr th:only-of-type {\n",
       "        vertical-align: middle;\n",
       "    }\n",
       "\n",
       "    .dataframe tbody tr th {\n",
       "        vertical-align: top;\n",
       "    }\n",
       "\n",
       "    .dataframe thead th {\n",
       "        text-align: right;\n",
       "    }\n",
       "</style>\n",
       "<table border=\"1\" class=\"dataframe\">\n",
       "  <thead>\n",
       "    <tr style=\"text-align: right;\">\n",
       "      <th></th>\n",
       "      <th>is_canceled</th>\n",
       "      <th>lead_time</th>\n",
       "      <th>arrival_date_year</th>\n",
       "      <th>arrival_date_week_number</th>\n",
       "      <th>arrival_date_day_of_month</th>\n",
       "      <th>stays_in_weekend_nights</th>\n",
       "      <th>stays_in_week_nights</th>\n",
       "      <th>adults</th>\n",
       "      <th>children</th>\n",
       "      <th>babies</th>\n",
       "      <th>is_repeated_guest</th>\n",
       "      <th>previous_cancellations</th>\n",
       "      <th>previous_bookings_not_canceled</th>\n",
       "      <th>booking_changes</th>\n",
       "      <th>agent</th>\n",
       "      <th>company</th>\n",
       "      <th>days_in_waiting_list</th>\n",
       "      <th>adr</th>\n",
       "      <th>required_car_parking_spaces</th>\n",
       "      <th>total_of_special_requests</th>\n",
       "    </tr>\n",
       "  </thead>\n",
       "  <tbody>\n",
       "    <tr>\n",
       "      <th>count</th>\n",
       "      <td>119390.000000</td>\n",
       "      <td>119390.000000</td>\n",
       "      <td>119390.000000</td>\n",
       "      <td>119390.000000</td>\n",
       "      <td>119390.000000</td>\n",
       "      <td>119390.000000</td>\n",
       "      <td>119390.000000</td>\n",
       "      <td>119390.000000</td>\n",
       "      <td>119386.000000</td>\n",
       "      <td>119390.000000</td>\n",
       "      <td>119390.000000</td>\n",
       "      <td>119390.000000</td>\n",
       "      <td>119390.000000</td>\n",
       "      <td>119390.000000</td>\n",
       "      <td>103050.000000</td>\n",
       "      <td>6797.000000</td>\n",
       "      <td>119390.000000</td>\n",
       "      <td>119390.000000</td>\n",
       "      <td>119390.000000</td>\n",
       "      <td>119390.000000</td>\n",
       "    </tr>\n",
       "    <tr>\n",
       "      <th>mean</th>\n",
       "      <td>0.370416</td>\n",
       "      <td>104.011416</td>\n",
       "      <td>2016.156554</td>\n",
       "      <td>27.165173</td>\n",
       "      <td>15.798241</td>\n",
       "      <td>0.927599</td>\n",
       "      <td>2.500302</td>\n",
       "      <td>1.856403</td>\n",
       "      <td>0.103890</td>\n",
       "      <td>0.007949</td>\n",
       "      <td>0.031912</td>\n",
       "      <td>0.087118</td>\n",
       "      <td>0.137097</td>\n",
       "      <td>0.221124</td>\n",
       "      <td>86.693382</td>\n",
       "      <td>189.266735</td>\n",
       "      <td>2.321149</td>\n",
       "      <td>101.831122</td>\n",
       "      <td>0.062518</td>\n",
       "      <td>0.571363</td>\n",
       "    </tr>\n",
       "    <tr>\n",
       "      <th>std</th>\n",
       "      <td>0.482918</td>\n",
       "      <td>106.863097</td>\n",
       "      <td>0.707476</td>\n",
       "      <td>13.605138</td>\n",
       "      <td>8.780829</td>\n",
       "      <td>0.998613</td>\n",
       "      <td>1.908286</td>\n",
       "      <td>0.579261</td>\n",
       "      <td>0.398561</td>\n",
       "      <td>0.097436</td>\n",
       "      <td>0.175767</td>\n",
       "      <td>0.844336</td>\n",
       "      <td>1.497437</td>\n",
       "      <td>0.652306</td>\n",
       "      <td>110.774548</td>\n",
       "      <td>131.655015</td>\n",
       "      <td>17.594721</td>\n",
       "      <td>50.535790</td>\n",
       "      <td>0.245291</td>\n",
       "      <td>0.792798</td>\n",
       "    </tr>\n",
       "    <tr>\n",
       "      <th>min</th>\n",
       "      <td>0.000000</td>\n",
       "      <td>0.000000</td>\n",
       "      <td>2015.000000</td>\n",
       "      <td>1.000000</td>\n",
       "      <td>1.000000</td>\n",
       "      <td>0.000000</td>\n",
       "      <td>0.000000</td>\n",
       "      <td>0.000000</td>\n",
       "      <td>0.000000</td>\n",
       "      <td>0.000000</td>\n",
       "      <td>0.000000</td>\n",
       "      <td>0.000000</td>\n",
       "      <td>0.000000</td>\n",
       "      <td>0.000000</td>\n",
       "      <td>1.000000</td>\n",
       "      <td>6.000000</td>\n",
       "      <td>0.000000</td>\n",
       "      <td>-6.380000</td>\n",
       "      <td>0.000000</td>\n",
       "      <td>0.000000</td>\n",
       "    </tr>\n",
       "    <tr>\n",
       "      <th>25%</th>\n",
       "      <td>0.000000</td>\n",
       "      <td>18.000000</td>\n",
       "      <td>2016.000000</td>\n",
       "      <td>16.000000</td>\n",
       "      <td>8.000000</td>\n",
       "      <td>0.000000</td>\n",
       "      <td>1.000000</td>\n",
       "      <td>2.000000</td>\n",
       "      <td>0.000000</td>\n",
       "      <td>0.000000</td>\n",
       "      <td>0.000000</td>\n",
       "      <td>0.000000</td>\n",
       "      <td>0.000000</td>\n",
       "      <td>0.000000</td>\n",
       "      <td>9.000000</td>\n",
       "      <td>62.000000</td>\n",
       "      <td>0.000000</td>\n",
       "      <td>69.290000</td>\n",
       "      <td>0.000000</td>\n",
       "      <td>0.000000</td>\n",
       "    </tr>\n",
       "    <tr>\n",
       "      <th>50%</th>\n",
       "      <td>0.000000</td>\n",
       "      <td>69.000000</td>\n",
       "      <td>2016.000000</td>\n",
       "      <td>28.000000</td>\n",
       "      <td>16.000000</td>\n",
       "      <td>1.000000</td>\n",
       "      <td>2.000000</td>\n",
       "      <td>2.000000</td>\n",
       "      <td>0.000000</td>\n",
       "      <td>0.000000</td>\n",
       "      <td>0.000000</td>\n",
       "      <td>0.000000</td>\n",
       "      <td>0.000000</td>\n",
       "      <td>0.000000</td>\n",
       "      <td>14.000000</td>\n",
       "      <td>179.000000</td>\n",
       "      <td>0.000000</td>\n",
       "      <td>94.575000</td>\n",
       "      <td>0.000000</td>\n",
       "      <td>0.000000</td>\n",
       "    </tr>\n",
       "    <tr>\n",
       "      <th>75%</th>\n",
       "      <td>1.000000</td>\n",
       "      <td>160.000000</td>\n",
       "      <td>2017.000000</td>\n",
       "      <td>38.000000</td>\n",
       "      <td>23.000000</td>\n",
       "      <td>2.000000</td>\n",
       "      <td>3.000000</td>\n",
       "      <td>2.000000</td>\n",
       "      <td>0.000000</td>\n",
       "      <td>0.000000</td>\n",
       "      <td>0.000000</td>\n",
       "      <td>0.000000</td>\n",
       "      <td>0.000000</td>\n",
       "      <td>0.000000</td>\n",
       "      <td>229.000000</td>\n",
       "      <td>270.000000</td>\n",
       "      <td>0.000000</td>\n",
       "      <td>126.000000</td>\n",
       "      <td>0.000000</td>\n",
       "      <td>1.000000</td>\n",
       "    </tr>\n",
       "    <tr>\n",
       "      <th>max</th>\n",
       "      <td>1.000000</td>\n",
       "      <td>737.000000</td>\n",
       "      <td>2017.000000</td>\n",
       "      <td>53.000000</td>\n",
       "      <td>31.000000</td>\n",
       "      <td>19.000000</td>\n",
       "      <td>50.000000</td>\n",
       "      <td>55.000000</td>\n",
       "      <td>10.000000</td>\n",
       "      <td>10.000000</td>\n",
       "      <td>1.000000</td>\n",
       "      <td>26.000000</td>\n",
       "      <td>72.000000</td>\n",
       "      <td>21.000000</td>\n",
       "      <td>535.000000</td>\n",
       "      <td>543.000000</td>\n",
       "      <td>391.000000</td>\n",
       "      <td>5400.000000</td>\n",
       "      <td>8.000000</td>\n",
       "      <td>5.000000</td>\n",
       "    </tr>\n",
       "  </tbody>\n",
       "</table>\n",
       "</div>"
      ],
      "text/plain": [
       "         is_canceled      lead_time  arrival_date_year  \\\n",
       "count  119390.000000  119390.000000      119390.000000   \n",
       "mean        0.370416     104.011416        2016.156554   \n",
       "std         0.482918     106.863097           0.707476   \n",
       "min         0.000000       0.000000        2015.000000   \n",
       "25%         0.000000      18.000000        2016.000000   \n",
       "50%         0.000000      69.000000        2016.000000   \n",
       "75%         1.000000     160.000000        2017.000000   \n",
       "max         1.000000     737.000000        2017.000000   \n",
       "\n",
       "       arrival_date_week_number  arrival_date_day_of_month  \\\n",
       "count             119390.000000              119390.000000   \n",
       "mean                  27.165173                  15.798241   \n",
       "std                   13.605138                   8.780829   \n",
       "min                    1.000000                   1.000000   \n",
       "25%                   16.000000                   8.000000   \n",
       "50%                   28.000000                  16.000000   \n",
       "75%                   38.000000                  23.000000   \n",
       "max                   53.000000                  31.000000   \n",
       "\n",
       "       stays_in_weekend_nights  stays_in_week_nights         adults  \\\n",
       "count            119390.000000         119390.000000  119390.000000   \n",
       "mean                  0.927599              2.500302       1.856403   \n",
       "std                   0.998613              1.908286       0.579261   \n",
       "min                   0.000000              0.000000       0.000000   \n",
       "25%                   0.000000              1.000000       2.000000   \n",
       "50%                   1.000000              2.000000       2.000000   \n",
       "75%                   2.000000              3.000000       2.000000   \n",
       "max                  19.000000             50.000000      55.000000   \n",
       "\n",
       "            children         babies  is_repeated_guest  \\\n",
       "count  119386.000000  119390.000000      119390.000000   \n",
       "mean        0.103890       0.007949           0.031912   \n",
       "std         0.398561       0.097436           0.175767   \n",
       "min         0.000000       0.000000           0.000000   \n",
       "25%         0.000000       0.000000           0.000000   \n",
       "50%         0.000000       0.000000           0.000000   \n",
       "75%         0.000000       0.000000           0.000000   \n",
       "max        10.000000      10.000000           1.000000   \n",
       "\n",
       "       previous_cancellations  previous_bookings_not_canceled  \\\n",
       "count           119390.000000                   119390.000000   \n",
       "mean                 0.087118                        0.137097   \n",
       "std                  0.844336                        1.497437   \n",
       "min                  0.000000                        0.000000   \n",
       "25%                  0.000000                        0.000000   \n",
       "50%                  0.000000                        0.000000   \n",
       "75%                  0.000000                        0.000000   \n",
       "max                 26.000000                       72.000000   \n",
       "\n",
       "       booking_changes          agent      company  days_in_waiting_list  \\\n",
       "count    119390.000000  103050.000000  6797.000000         119390.000000   \n",
       "mean          0.221124      86.693382   189.266735              2.321149   \n",
       "std           0.652306     110.774548   131.655015             17.594721   \n",
       "min           0.000000       1.000000     6.000000              0.000000   \n",
       "25%           0.000000       9.000000    62.000000              0.000000   \n",
       "50%           0.000000      14.000000   179.000000              0.000000   \n",
       "75%           0.000000     229.000000   270.000000              0.000000   \n",
       "max          21.000000     535.000000   543.000000            391.000000   \n",
       "\n",
       "                 adr  required_car_parking_spaces  total_of_special_requests  \n",
       "count  119390.000000                119390.000000              119390.000000  \n",
       "mean      101.831122                     0.062518                   0.571363  \n",
       "std        50.535790                     0.245291                   0.792798  \n",
       "min        -6.380000                     0.000000                   0.000000  \n",
       "25%        69.290000                     0.000000                   0.000000  \n",
       "50%        94.575000                     0.000000                   0.000000  \n",
       "75%       126.000000                     0.000000                   1.000000  \n",
       "max      5400.000000                     8.000000                   5.000000  "
      ]
     },
     "execution_count": 304,
     "metadata": {},
     "output_type": "execute_result"
    }
   ],
   "source": [
    "df.describe()"
   ]
  },
  {
   "cell_type": "code",
   "execution_count": 305,
   "id": "2185cd46",
   "metadata": {},
   "outputs": [
    {
     "data": {
      "text/plain": [
       "hotel                                  0\n",
       "is_canceled                            0\n",
       "lead_time                              0\n",
       "arrival_date_year                      0\n",
       "arrival_date_month                     0\n",
       "arrival_date_week_number               0\n",
       "arrival_date_day_of_month              0\n",
       "stays_in_weekend_nights                0\n",
       "stays_in_week_nights                   0\n",
       "adults                                 0\n",
       "children                               4\n",
       "babies                                 0\n",
       "meal                                   0\n",
       "country                              488\n",
       "market_segment                         0\n",
       "distribution_channel                   0\n",
       "is_repeated_guest                      0\n",
       "previous_cancellations                 0\n",
       "previous_bookings_not_canceled         0\n",
       "reserved_room_type                     0\n",
       "assigned_room_type                     0\n",
       "booking_changes                        0\n",
       "deposit_type                           0\n",
       "agent                              16340\n",
       "company                           112593\n",
       "days_in_waiting_list                   0\n",
       "customer_type                          0\n",
       "adr                                    0\n",
       "required_car_parking_spaces            0\n",
       "total_of_special_requests              0\n",
       "reservation_status                     0\n",
       "reservation_status_date                0\n",
       "dtype: int64"
      ]
     },
     "execution_count": 305,
     "metadata": {},
     "output_type": "execute_result"
    }
   ],
   "source": [
    "df.isnull().sum()"
   ]
  },
  {
   "cell_type": "code",
   "execution_count": 306,
   "id": "e6950ea4",
   "metadata": {},
   "outputs": [
    {
     "data": {
      "text/plain": [
       "hotel                              0.000000\n",
       "is_canceled                        0.000000\n",
       "lead_time                          0.000000\n",
       "arrival_date_year                  0.000000\n",
       "arrival_date_month                 0.000000\n",
       "arrival_date_week_number           0.000000\n",
       "arrival_date_day_of_month          0.000000\n",
       "stays_in_weekend_nights            0.000000\n",
       "stays_in_week_nights               0.000000\n",
       "adults                             0.000000\n",
       "children                           0.003350\n",
       "babies                             0.000000\n",
       "meal                               0.000000\n",
       "country                            0.408744\n",
       "market_segment                     0.000000\n",
       "distribution_channel               0.000000\n",
       "is_repeated_guest                  0.000000\n",
       "previous_cancellations             0.000000\n",
       "previous_bookings_not_canceled     0.000000\n",
       "reserved_room_type                 0.000000\n",
       "assigned_room_type                 0.000000\n",
       "booking_changes                    0.000000\n",
       "deposit_type                       0.000000\n",
       "agent                             13.686238\n",
       "company                           94.306893\n",
       "days_in_waiting_list               0.000000\n",
       "customer_type                      0.000000\n",
       "adr                                0.000000\n",
       "required_car_parking_spaces        0.000000\n",
       "total_of_special_requests          0.000000\n",
       "reservation_status                 0.000000\n",
       "reservation_status_date            0.000000\n",
       "dtype: float64"
      ]
     },
     "execution_count": 306,
     "metadata": {},
     "output_type": "execute_result"
    }
   ],
   "source": [
    "df.isnull().sum() / df.shape[0] * 100"
   ]
  },
  {
   "cell_type": "code",
   "execution_count": 307,
   "id": "3ec45a27",
   "metadata": {},
   "outputs": [],
   "source": [
    "df[['agent', 'company']] = df[['agent', 'company']].fillna(0)\n",
    "df['children'] = df['children'].fillna(df['children'].mode()[0])\n",
    "df['country'] = df['country'].fillna(df['country'].mode()[0])"
   ]
  },
  {
   "cell_type": "code",
   "execution_count": 308,
   "id": "a1a371e0",
   "metadata": {},
   "outputs": [
    {
     "data": {
      "text/plain": [
       "hotel                             0\n",
       "is_canceled                       0\n",
       "reservation_status                0\n",
       "total_of_special_requests         0\n",
       "required_car_parking_spaces       0\n",
       "adr                               0\n",
       "customer_type                     0\n",
       "days_in_waiting_list              0\n",
       "company                           0\n",
       "agent                             0\n",
       "deposit_type                      0\n",
       "booking_changes                   0\n",
       "assigned_room_type                0\n",
       "reserved_room_type                0\n",
       "previous_bookings_not_canceled    0\n",
       "previous_cancellations            0\n",
       "is_repeated_guest                 0\n",
       "distribution_channel              0\n",
       "market_segment                    0\n",
       "country                           0\n",
       "meal                              0\n",
       "babies                            0\n",
       "children                          0\n",
       "adults                            0\n",
       "stays_in_week_nights              0\n",
       "stays_in_weekend_nights           0\n",
       "arrival_date_day_of_month         0\n",
       "arrival_date_week_number          0\n",
       "arrival_date_month                0\n",
       "arrival_date_year                 0\n",
       "lead_time                         0\n",
       "reservation_status_date           0\n",
       "dtype: int64"
      ]
     },
     "execution_count": 308,
     "metadata": {},
     "output_type": "execute_result"
    }
   ],
   "source": [
    "df.isnull().sum().sort_values(ascending=False)"
   ]
  },
  {
   "cell_type": "code",
   "execution_count": 309,
   "id": "f9ac38d4",
   "metadata": {},
   "outputs": [],
   "source": [
    "month_order = ['January', 'February', 'March', 'April', 'May', 'June',\n",
    "             'July', 'August', 'September', 'October', 'November', 'December']"
   ]
  },
  {
   "cell_type": "code",
   "execution_count": 310,
   "id": "329b4a48",
   "metadata": {},
   "outputs": [],
   "source": [
    "df['arrival_date_year'] = df['arrival_date_year'].astype(int)"
   ]
  },
  {
   "cell_type": "code",
   "execution_count": 311,
   "id": "16cbd3cf",
   "metadata": {},
   "outputs": [],
   "source": [
    "monthly_booking = df.groupby(['arrival_date_year','arrival_date_month', 'hotel']).size().reset_index(name='num_bookings')"
   ]
  },
  {
   "cell_type": "code",
   "execution_count": 312,
   "id": "7badb6aa",
   "metadata": {},
   "outputs": [],
   "source": [
    "monthly_booking['month_num'] = monthly_booking['arrival_date_month'].map(lambda x: month_order.index(x) + 1)"
   ]
  },
  {
   "cell_type": "code",
   "execution_count": 313,
   "id": "096fc3f7",
   "metadata": {},
   "outputs": [],
   "source": [
    "le = LabelEncoder()\n",
    "train_mask = monthly_booking['arrival_date_year'] < 2018\n",
    "le.fit(monthly_booking[train_mask]['hotel'])\n",
    "monthly_booking['hotel_encoded'] = le.transform(monthly_booking['hotel'])"
   ]
  },
  {
   "cell_type": "code",
   "execution_count": 314,
   "id": "560a9518",
   "metadata": {},
   "outputs": [],
   "source": [
    "total_guests = df.groupby(['arrival_date_year', 'arrival_date_month', 'hotel'])[['adults', 'children', 'babies']].sum().reset_index()\n",
    "total_guests['month_num'] = total_guests['arrival_date_month'].map(lambda x: month_order.index(x) + 1)\n",
    "total_guests['total_guests'] = total_guests[['adults', 'children', 'babies']].sum(axis=1)\n",
    "total_guests = total_guests[['arrival_date_year', 'month_num', 'hotel', 'total_guests']]\n",
    "monthly_booking = monthly_booking.merge(total_guests, on=['arrival_date_year', 'month_num', 'hotel'], how='left')"
   ]
  },
  {
   "cell_type": "code",
   "execution_count": 315,
   "id": "40b2584c",
   "metadata": {},
   "outputs": [],
   "source": [
    "cancel_rate = df.groupby(['arrival_date_year', 'arrival_date_month', 'hotel'])['is_canceled'].mean().reset_index()\n",
    "cancel_rate.rename(columns={'is_canceled': 'cancellation_rate'}, inplace=True)\n",
    "cancel_rate['month_num'] = cancel_rate['arrival_date_month'].map(lambda x: month_order.index(x) + 1)\n",
    "monthly_booking = monthly_booking.merge(cancel_rate[['arrival_date_year', 'month_num', 'hotel', 'cancellation_rate']], on=['arrival_date_year', 'month_num', 'hotel'], how='left')"
   ]
  },
  {
   "cell_type": "code",
   "execution_count": 316,
   "id": "9818ba85",
   "metadata": {},
   "outputs": [],
   "source": [
    "monthly_booking = monthly_booking.sort_values(by=['hotel_encoded', 'month_num', 'arrival_date_year']).reset_index(drop=True)\n",
    "monthly_booking['previous_year_bookings'] = monthly_booking.groupby(['month_num', 'hotel_encoded'])['num_bookings'].shift(1)"
   ]
  },
  {
   "cell_type": "code",
   "execution_count": 317,
   "id": "5562f5f0",
   "metadata": {},
   "outputs": [],
   "source": [
    "monthly_booking.dropna(inplace=True)\n"
   ]
  },
  {
   "cell_type": "markdown",
   "id": "ad1f8054",
   "metadata": {},
   "source": [
    "##Train-test split (train on 2015-2016, test on 2017)\n",
    "time-based split"
   ]
  },
  {
   "cell_type": "code",
   "execution_count": 318,
   "id": "b84e12e7",
   "metadata": {},
   "outputs": [],
   "source": [
    "x = monthly_booking[['hotel_encoded', 'previous_year_bookings', \n",
    "                     'total_guests', 'cancellation_rate']]\n",
    "y = monthly_booking['num_bookings']"
   ]
  },
  {
   "cell_type": "code",
   "execution_count": 319,
   "id": "b2ea5498",
   "metadata": {},
   "outputs": [],
   "source": [
    "x_train = x[(monthly_booking['arrival_date_year'] >= 2015) & (monthly_booking['arrival_date_year'] <= 2016)]\n",
    "y_train = y[(monthly_booking['arrival_date_year'] >= 2015) & (monthly_booking['arrival_date_year'] <= 2016)]\n",
    "\n",
    "x_test = x[monthly_booking['arrival_date_year'] == 2017]\n",
    "y_test = y[monthly_booking['arrival_date_year'] == 2017]"
   ]
  },
  {
   "cell_type": "code",
   "execution_count": 320,
   "id": "62eef183",
   "metadata": {},
   "outputs": [],
   "source": [
    "param_grid = {\n",
    "    'n_estimators': [100, 200],\n",
    "    'max_depth': [5,10,None],\n",
    "    'min_samples_split': [2, 5],\n",
    "    'max_features': ['sqrt', 0.8]\n",
    "}"
   ]
  },
  {
   "cell_type": "code",
   "execution_count": 321,
   "id": "9c631c50",
   "metadata": {},
   "outputs": [],
   "source": [
    "tscv = TimeSeriesSplit(n_splits=3)"
   ]
  },
  {
   "cell_type": "code",
   "execution_count": 322,
   "id": "9bdda18d",
   "metadata": {},
   "outputs": [],
   "source": [
    "grid_search = GridSearchCV(RandomForestRegressor(random_state=42), param_grid, cv=tscv,scoring='neg_mean_absolute_error', n_jobs=-1, verbose=1)"
   ]
  },
  {
   "cell_type": "code",
   "execution_count": 323,
   "id": "f7440283",
   "metadata": {},
   "outputs": [
    {
     "name": "stdout",
     "output_type": "stream",
     "text": [
      "Fitting 3 folds for each of 24 candidates, totalling 72 fits\n",
      "Best parameters found:  {'max_depth': 5, 'max_features': 0.8, 'min_samples_split': 2, 'n_estimators': 200}\n"
     ]
    }
   ],
   "source": [
    "grid_search.fit(x_train, y_train)\n",
    "print(\"Best parameters found: \", grid_search.best_params_)"
   ]
  },
  {
   "cell_type": "code",
   "execution_count": 324,
   "id": "7c44ee3a",
   "metadata": {},
   "outputs": [],
   "source": [
    "model = grid_search.best_estimator_"
   ]
  },
  {
   "cell_type": "code",
   "execution_count": 325,
   "id": "c610ebf7",
   "metadata": {},
   "outputs": [
    {
     "name": "stdout",
     "output_type": "stream",
     "text": [
      "MAE on 2017 test data: 135.9834375\n",
      "R2 score on 2017 test data: 0.959571607349352\n",
      "MSE on 2017 test data: 42305.65711093751\n",
      "RMSE on 2017 test data: 205.68339045955437\n"
     ]
    }
   ],
   "source": [
    "pred_test = model.predict(x_test)\n",
    "print(f\"MAE on 2017 test data: {mean_absolute_error(y_test, pred_test)}\")\n",
    "print(f\"R2 score on 2017 test data: {r2_score(y_test, pred_test)}\")\n",
    "print(f\"MSE on 2017 test data: {mean_squared_error(y_test, pred_test)}\")\n",
    "rmse = np.sqrt(mean_squared_error(y_test, pred_test))\n",
    "print(f\"RMSE on 2017 test data: {rmse}\")"
   ]
  },
  {
   "cell_type": "code",
   "execution_count": 326,
   "id": "c6b3933c",
   "metadata": {},
   "outputs": [
    {
     "name": "stdout",
     "output_type": "stream",
     "text": [
      "Test Set: Actual vs Predicted Bookings\n",
      "   Actual  Predicted\n",
      "1    2372   2404.935\n",
      "3    2594   2707.425\n",
      "5    3412   3561.560\n",
      "7    3919   3947.810\n",
      "9    4556   3947.810\n"
     ]
    }
   ],
   "source": [
    "print(\"Test Set: Actual vs Predicted Bookings\")\n",
    "comparison = pd.DataFrame({'Actual': y_test, 'Predicted': pred_test})\n",
    "print(comparison.head())\n"
   ]
  },
  {
   "cell_type": "code",
   "execution_count": 327,
   "id": "33ea7d72",
   "metadata": {},
   "outputs": [
    {
     "data": {
      "image/png": "[encoded data removed]",
      "text/plain": [
       "<Figure size 1000x600 with 1 Axes>"
      ]
     },
     "metadata": {},
     "output_type": "display_data"
    }
   ],
   "source": [
    "plt.figure(figsize=(10, 6))\n",
    "plt.scatter(y_test, pred_test, alpha=0.6)\n",
    "plt.plot([y_test.min(), y_test.max()], [y_test.min(), y_test.max()], 'r--')\n",
    "plt.xlabel(\"Actual Bookings\")\n",
    "plt.ylabel(\"Predicted Bookings\")\n",
    "plt.title(\"Actual vs Predicted Bookings (2017)\")\n",
    "plt.grid(True)\n",
    "plt.show()"
   ]
  },
  {
   "cell_type": "code",
   "execution_count": 328,
   "id": "16b7d1bd",
   "metadata": {},
   "outputs": [
    {
     "data": {
      "image/png": "[encoded data removed]",
      "text/plain": [
       "<Figure size 1000x600 with 1 Axes>"
      ]
     },
     "metadata": {},
     "output_type": "display_data"
    }
   ],
   "source": [
    "importances = model.feature_importances_\n",
    "feature_names = x_train.columns\n",
    "\n",
    "plt.figure(figsize=(10, 6))\n",
    "plt.barh(feature_names, importances, color='purple')\n",
    "plt.xlabel(\"Feature Importance\")\n",
    "plt.title(\"Feature Importance from Random Forest Model\")\n",
    "plt.gca().invert_yaxis()\n",
    "plt.show()"
   ]
  },
  {
   "cell_type": "code",
   "execution_count": 329,
   "id": "469faeda",
   "metadata": {},
   "outputs": [
    {
     "name": "stdout",
     "output_type": "stream",
     "text": [
      "   arrival_date_year         hotel  total_guests  previous_year_guests  \\\n",
      "0               2015    City Hotel       24981.0                   NaN   \n",
      "1               2015  Resort Hotel       16861.0                   NaN   \n",
      "2               2016    City Hotel       74577.0               24981.0   \n",
      "3               2016  Resort Hotel       36758.0               16861.0   \n",
      "4               2017    City Hotel       54920.0               74577.0   \n",
      "5               2017  Resort Hotel       26891.0               36758.0   \n",
      "\n",
      "   yoy_growth  \n",
      "0         NaN  \n",
      "1         NaN  \n",
      "2    1.985349  \n",
      "3    1.180060  \n",
      "4   -0.263580  \n",
      "5   -0.268431  \n"
     ]
    }
   ],
   "source": [
    "yearly_guest = df.groupby(['arrival_date_year', 'hotel'])[['adults', 'children', 'babies']].sum()\n",
    "yearly_guest['total_guests'] = yearly_guest.sum(axis=1)\n",
    "\n",
    "yearly_guest = yearly_guest.reset_index()\n",
    "yearly_guest['previous_year_guests'] = yearly_guest.groupby('hotel')['total_guests'].shift(1)\n",
    "yearly_guest['yoy_growth'] = (yearly_guest['total_guests'] / yearly_guest['previous_year_guests']) - 1\n",
    "print(yearly_guest[['arrival_date_year', 'hotel', 'total_guests', 'previous_year_guests', 'yoy_growth']])"
   ]
  },
  {
   "cell_type": "code",
   "execution_count": 330,
   "id": "ecd61163",
   "metadata": {},
   "outputs": [
    {
     "name": "stdout",
     "output_type": "stream",
     "text": [
      "0.6583495184460986\n"
     ]
    }
   ],
   "source": [
    "avg_growth = yearly_guest['yoy_growth'].mean()\n",
    "monthly_booking_2018['total_guests'] = monthly_booking_2017['total_guests'] * (1 + avg_growth)\n",
    "print(avg_growth)"
   ]
  },
  {
   "cell_type": "code",
   "execution_count": 331,
   "id": "abd8a52e",
   "metadata": {},
   "outputs": [],
   "source": [
    "monthly_booking_2017 = monthly_booking[monthly_booking['arrival_date_year'] == 2017].copy()"
   ]
  },
  {
   "cell_type": "code",
   "execution_count": 332,
   "id": "b386440f",
   "metadata": {},
   "outputs": [],
   "source": [
    "monthly_booking_2018 = monthly_booking_2017.copy()\n",
    "monthly_booking_2018['arrival_date_year'] = 2018\n",
    "monthly_booking_2018['previous_year_bookings'] = monthly_booking_2017['num_bookings']\n",
    "monthly_booking_2018['total_guests'] = monthly_booking_2017['total_guests']\n",
    "monthly_booking_2018['cancellation_rate'] = monthly_booking_2017['cancellation_rate']"
   ]
  },
  {
   "cell_type": "code",
   "execution_count": 338,
   "id": "58e78e26",
   "metadata": {},
   "outputs": [],
   "source": [
    "# Calculate weighted average for each hotel type\n",
    "weights = {2015: 0.2, 2016: 0.3, 2017: 0.5}  # Customizable based on domain knowledge\n",
    "\n",
    "def weighted_avg_guests(df, hotel_type):\n",
    "    hotel_data = df[df['hotel'] == hotel_type]\n",
    "    return (hotel_data['total_guests'] * hotel_data['arrival_date_year'].map(weights)).sum() / sum(weights.values())\n",
    "\n",
    "# Apply to 2018 projections\n",
    "resort_avg = weighted_avg_guests(yearly_guest, 'Resort Hotel')\n",
    "city_avg = weighted_avg_guests(yearly_guest, 'City Hotel')\n",
    "\n",
    "monthly_booking_2018.loc[monthly_booking_2018['hotel'] == 'Resort Hotel', 'total_guests'] = resort_avg\n",
    "monthly_booking_2018.loc[monthly_booking_2018['hotel'] == 'City Hotel', 'total_guests'] = city_avg"
   ]
  },
  {
   "cell_type": "code",
   "execution_count": 335,
   "id": "84e9ce6f",
   "metadata": {},
   "outputs": [
    {
     "name": "stdout",
     "output_type": "stream",
     "text": [
      "       hotel arrival_date_month  predicted_num_bookings\n",
      "  City Hotel              April                3947.810\n",
      "  City Hotel             August                3737.560\n",
      "  City Hotel           February                3595.695\n",
      "  City Hotel            January                3514.880\n",
      "  City Hotel               July                3708.200\n",
      "  City Hotel               June                3947.810\n",
      "  City Hotel              March                3789.270\n",
      "  City Hotel                May                3947.810\n",
      "Resort Hotel              April                2605.315\n",
      "Resort Hotel             August                2801.825\n",
      "Resort Hotel           February                2599.970\n",
      "Resort Hotel            January                2512.620\n",
      "Resort Hotel               July                2805.405\n",
      "Resort Hotel               June                2805.405\n",
      "Resort Hotel              March                2611.495\n",
      "Resort Hotel                May                2605.315\n"
     ]
    }
   ],
   "source": [
    "features_2018 = monthly_booking_2018[['hotel_encoded', 'previous_year_bookings',\n",
    "                                       'total_guests', 'cancellation_rate']]\n",
    "pred_2018 = model.predict(features_2018)\n",
    "monthly_booking_2018['predicted_num_bookings'] = pred_2018\n",
    "\n",
    "result_2018 = monthly_booking_2018[['hotel', 'arrival_date_month', 'predicted_num_bookings']].sort_values(['hotel', 'arrival_date_month'])\n",
    "print(result_2018.to_string(index=False))"
   ]
  },
  {
   "cell_type": "code",
   "execution_count": 336,
   "id": "3c3782dc",
   "metadata": {},
   "outputs": [
    {
     "name": "stdout",
     "output_type": "stream",
     "text": [
      "Month with highest bookings for Resort Hotel in 2018:\n",
      "arrival_date_year                 2018\n",
      "arrival_date_month                June\n",
      "hotel                     Resort Hotel\n",
      "num_bookings                      1676\n",
      "month_num                            6\n",
      "hotel_encoded                        1\n",
      "total_guests                   27845.1\n",
      "cancellation_rate             0.376492\n",
      "previous_year_bookings            1676\n",
      "predicted_num_bookings        2805.405\n",
      "Name: 37, dtype: object\n"
     ]
    }
   ],
   "source": [
    "#Identify the month has highest bookings for Resort Hotel\n",
    "resort_df = monthly_booking_2018[monthly_booking_2018['hotel'] == 'Resort Hotel']\n",
    "if not resort_df.empty:\n",
    "    resort_booking = resort_df.loc[resort_df['predicted_num_bookings'].idxmax()]\n",
    "    print(\"Month with highest bookings for Resort Hotel in 2018:\")\n",
    "    print(resort_booking)"
   ]
  },
  {
   "cell_type": "code",
   "execution_count": 337,
   "id": "6aa8d82c",
   "metadata": {},
   "outputs": [
    {
     "name": "stdout",
     "output_type": "stream",
     "text": [
      "Month with highest bookings for City Hotel in 2018:\n",
      "arrival_date_year               2018\n",
      "arrival_date_month             April\n",
      "hotel                     City Hotel\n",
      "num_bookings                    3919\n",
      "month_num                          4\n",
      "hotel_encoded                      0\n",
      "total_guests                 54829.3\n",
      "cancellation_rate           0.491452\n",
      "previous_year_bookings          3919\n",
      "predicted_num_bookings       3947.81\n",
      "Name: 7, dtype: object\n"
     ]
    }
   ],
   "source": [
    "#City hotel\n",
    "city_df = monthly_booking_2018[monthly_booking_2018['hotel'] == 'City Hotel']\n",
    "if not city_df.empty:\n",
    "    city_booking = city_df.loc[city_df['predicted_num_bookings'].idxmax()]\n",
    "    print(\"Month with highest bookings for City Hotel in 2018:\")\n",
    "    print(city_booking)"
   ]
  },
  {
   "cell_type": "code",
   "execution_count": 339,
   "id": "596fb2b1",
   "metadata": {},
   "outputs": [
    {
     "data": {
      "image/png": "[encoded data removed]",
      "text/plain": [
       "<Figure size 1200x600 with 1 Axes>"
      ]
     },
     "metadata": {},
     "output_type": "display_data"
    }
   ],
   "source": [
    "import seaborn as sns\n",
    "import matplotlib.pyplot as plt\n",
    "\n",
    "# Plot monthly trends\n",
    "plt.figure(figsize=(12, 6))\n",
    "sns.lineplot(\n",
    "    data=monthly_booking_2018, \n",
    "    x='arrival_date_month', \n",
    "    y='predicted_num_bookings', \n",
    "    hue='hotel',\n",
    "    marker='o'\n",
    ")\n",
    "plt.title(\"2018 Monthly Booking Forecast (Weighted Projection)\")\n",
    "plt.xlabel(\"Month\")\n",
    "plt.ylabel(\"Predicted Bookings\")\n",
    "plt.xticks(rotation=45)\n",
    "plt.grid(True)\n",
    "plt.show()"
   ]
  },
  {
   "cell_type": "code",
   "execution_count": null,
   "id": "5c423cad",
   "metadata": {},
   "outputs": [],
   "source": []
  },
  {
   "cell_type": "code",
   "execution_count": null,
   "id": "c53aef2d",
   "metadata": {},
   "outputs": [],
   "source": []
  }
 ],
 "metadata": {
  "kernelspec": {
   "display_name": "base",
   "language": "python",
   "name": "python3"
  },
  "language_info": {
   "codemirror_mode": {
    "name": "ipython",
    "version": 3
   },
   "file_extension": ".py",
   "mimetype": "text/x-python",
   "name": "python",
   "nbconvert_exporter": "python",
   "pygments_lexer": "ipython3",
   "version": "3.12.7"
  }
 },
 "nbformat": 4,
 "nbformat_minor": 5
}
